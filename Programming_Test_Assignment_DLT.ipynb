{
  "nbformat": 4,
  "nbformat_minor": 0,
  "metadata": {
    "colab": {
      "provenance": [],
      "authorship_tag": "ABX9TyMq09T3jphM02QU+zQz7WBf",
      "include_colab_link": true
    },
    "kernelspec": {
      "name": "python3",
      "display_name": "Python 3"
    },
    "language_info": {
      "name": "python"
    }
  },
  "cells": [
    {
      "cell_type": "markdown",
      "metadata": {
        "id": "view-in-github",
        "colab_type": "text"
      },
      "source": [
        "<a href=\"https://colab.research.google.com/github/Prajkta27/Programming_Test_Assessment/blob/main/Programming_Test_Assignment_DLT.ipynb\" target=\"_parent\"><img src=\"https://colab.research.google.com/assets/colab-badge.svg\" alt=\"Open In Colab\"/></a>"
      ]
    },
    {
      "cell_type": "code",
      "execution_count": 1,
      "metadata": {
        "colab": {
          "base_uri": "https://localhost:8080/"
        },
        "id": "wyRKSIDCbSx7",
        "outputId": "247877bd-db8e-478e-9670-8ff085b02d9c"
      },
      "outputs": [
        {
          "output_type": "stream",
          "name": "stdout",
          "text": [
            "[{'title': \"It's Even Bleaker for Teachers Than You Thought\", 'link': ''}, {'title': '10 Surprising Facts About the 2024 Solar Eclipse', 'link': ''}, {'title': \"Why the BBC Has Spoken Out About Its Coverage of Kate Middleton's Cancer Diagnosis\", 'link': ''}, {'title': 'How King Charles Is Breaking With Royal Tradition in a Major Way', 'link': ''}, {'title': 'Breaker Sunny Choi Is Heading to Paris', 'link': ''}, {'title': 'How Kate Cox Became a Reluctant Face of the Abortion-Rights Movement', 'link': ''}, {'title': 'Greta Gerwig’s Next Big Swing', 'link': ''}, {'title': 'Thailand’s New Prime Minister Is Getting Down to Business', 'link': ''}, {'title': 'In the Belly of MrBeast', 'link': ''}, {'title': 'We’re Focusing on the Wrong Kind of AI Apocalypse', 'link': ''}, {'title': 'Growing Concerns About Global Seafood', 'link': ''}, {'title': \"Beyoncé Is Defying Country's Stereotypes\", 'link': ''}, {'title': 'The Complicated Dread of Early Spring', 'link': ''}, {'title': \"Actually, It's OK to Slouch\", 'link': ''}, {'title': 'Vatican Blasts Gender-Affirming Surgery, Surrogacy as Threat', 'link': ''}, {'title': 'Nicaragua Takes Germany to ICJ Over Arms Supplies to Israel', 'link': ''}, {'title': 'Biden Announces $6.6 Billion for Made in America Microchips', 'link': ''}, {'title': 'Russia’s Top Diplomat Visits China to Emphasize Strong Ties Amid Grinding Ukraine War', 'link': ''}, {'title': 'Elon Musk Battles a Brazilian Judge: Everything to Know', 'link': ''}]\n"
          ]
        }
      ],
      "source": [
        "import urllib.request\n",
        "from html.parser import HTMLParser\n",
        "\n",
        "class TimeHTMLParser(HTMLParser):\n",
        "    def __init__(self):\n",
        "        super().__init__()\n",
        "        self.latest_stories = []\n",
        "        self.inside_headline = False\n",
        "        self.current_title = \"\"\n",
        "        self.current_link = \"\"\n",
        "\n",
        "    def handle_starttag(self, tag, attrs):\n",
        "        if tag == 'h3':\n",
        "            for attr in attrs:\n",
        "                if attr[0] == 'class' and 'headline' in attr[1]:\n",
        "                    self.inside_headline = True\n",
        "        elif tag == 'a' and self.inside_headline:\n",
        "            for attr in attrs:\n",
        "                if attr[0] == 'href':\n",
        "                    self.current_link = attr[1]\n",
        "\n",
        "    def handle_endtag(self, tag):\n",
        "        if tag == 'h3' and self.inside_headline:\n",
        "            self.inside_headline = False\n",
        "            self.latest_stories.append({\"title\": self.current_title.strip(), \"link\": self.current_link})\n",
        "            self.current_title = \"\"\n",
        "            self.current_link = \"\"\n",
        "\n",
        "    def handle_data(self, data):\n",
        "        if self.inside_headline:\n",
        "            self.current_title += data\n",
        "\n",
        "def get_time_stories():\n",
        "    # Fetch HTML content from the Time.com website\n",
        "    url = 'https://time.com'\n",
        "    try:\n",
        "        with urllib.request.urlopen(url) as response:\n",
        "            html_content = response.read().decode('utf-8')\n",
        "    except Exception as e:\n",
        "        return \"Failed to fetch Time.com\"\n",
        "\n",
        "    # Parse HTML content\n",
        "    parser = TimeHTMLParser()\n",
        "    parser.feed(html_content)\n",
        "    return parser.latest_stories\n",
        "\n",
        "# Get the latest stories\n",
        "stories = get_time_stories()\n",
        "print(stories)"
      ]
    }
  ]
}